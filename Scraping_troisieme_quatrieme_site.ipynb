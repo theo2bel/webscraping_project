{
 "cells": [
  {
   "cell_type": "markdown",
   "id": "a7eac19c",
   "metadata": {},
   "source": [
    "Scraping du site \"https://www.techno-science.net/definition/12174.html\" pour récupérer les aéroports de France"
   ]
  },
  {
   "cell_type": "code",
   "execution_count": null,
   "id": "11d59842",
   "metadata": {},
   "outputs": [],
   "source": [
    "import requests\n",
    "from bs4 import BeautifulSoup\n",
    "import pandas as pd\n",
    "\n",
    "url = \"https://www.techno-science.net/definition/12174.html\"\n",
    "response = requests.get(url)\n",
    "html_content = response.text\n",
    "\n",
    "soup = BeautifulSoup(html_content, 'html.parser')\n",
    "table = soup.find('table', {'class': 'wikitable'})\n",
    "\n",
    "rows = table.find_all('tr')\n",
    "data = []\n",
    "for row in rows:\n",
    "    cols = row.find_all('td')\n",
    "    if cols:\n",
    "        # Extraction des colonnes 'Code AITA', 'Nom de l'aérodrome' et 'Ville desservie'\n",
    "        data.append([cols[0].text.strip(), cols[2].text.strip(), cols[3].text.strip()])\n",
    "\n",
    "column_names = [\"Code AITA\", \"Nom de l'aérodrome\", \"Ville desservie\"]\n",
    "df = pd.DataFrame(data, columns=column_names)\n",
    "\n",
    "#print(df)\n"
   ]
  },
  {
   "cell_type": "markdown",
   "id": "97e74889",
   "metadata": {},
   "source": [
    "Code pour récupérer dans le dataframe le code AITA si on lui donne la ville"
   ]
  },
  {
   "cell_type": "code",
   "execution_count": null,
   "id": "cb357420",
   "metadata": {},
   "outputs": [],
   "source": [
    "import pandas as pd\n",
    "\n",
    "\n",
    "def find_aita_code(city_name, df):\n",
    "    result = df[df['Ville desservie'].str.contains(city_name, case=False, na=False)]\n",
    "    if not result.empty:\n",
    "        return result.iloc[0]['Code AITA']\n",
    "    else:\n",
    "        return None\n"
   ]
  },
  {
   "cell_type": "markdown",
   "id": "f02bc7b0",
   "metadata": {},
   "source": [
    "Scraping de carbonfootprint pour récuperer l'empreinte carbonne en avion de deux villes"
   ]
  },
  {
   "cell_type": "code",
   "execution_count": null,
   "id": "cff6f0ae",
   "metadata": {},
   "outputs": [],
   "source": [
    "from selenium import webdriver\n",
    "from selenium.webdriver.common.keys import Keys\n",
    "from selenium.webdriver.common.by import By\n",
    "from selenium.webdriver.common.action_chains import ActionChains\n",
    "from selenium.webdriver.support.ui import WebDriverWait\n",
    "from selenium.webdriver.support import expected_conditions as EC\n",
    "from selenium.webdriver.chrome.service import Service\n",
    "import re\n",
    "\n",
    "def wait_for_element(by, value, timeout=10):\n",
    "    wait = WebDriverWait(driver, timeout)\n",
    "    return wait.until(EC.element_to_be_clickable((by, value)))\n",
    "\n",
    "# Demander à l'utilisateur de saisir les villes de départ et d'arrivée\n",
    "depart_city = input(\"Entrez la ville de départ : \")\n",
    "arrive_city = input(\"Entrez la ville d'arrivée : \")\n",
    "\n",
    "depart_aita_code = find_aita_code(depart_city, df)\n",
    "arrive_aita_code = find_aita_code(arrive_city, df)\n",
    "\n",
    "if depart_aita_code and arrive_aita_code:\n",
    "    geckodriver_path = \"C:/Users/noelt/Downloads/geckodriver-v0.34.0-win64/geckodriver.exe\"\n",
    "    service = Service(geckodriver_path)\n",
    "    driver = webdriver.Firefox(service=service)\n",
    "    driver.get(\"https://calculator.carbonfootprint.com/calculator.aspx?tab=3\")\n",
    "\n",
    "    arrival_field = wait_for_element(By.ID, \"ctl05_rcbAirportTo_Input\")\n",
    "    arrival_field.clear()\n",
    "    arrival_field.send_keys(arrive_aita_code)\n",
    "    arrival_field.send_keys(Keys.TAB)\n",
    "\n",
    "    arrow_element = wait_for_element(By.ID, \"ctl05_rcbAirportTo_Arrow\")\n",
    "    arrow_element.click()\n",
    "\n",
    "    departure_field = wait_for_element(By.ID, \"ctl05_rcbAirportFrom_Input\")\n",
    "    departure_field.clear()\n",
    "    departure_field.send_keys(\"PAR\")\n",
    "    departure_field.send_keys(Keys.TAB)\n",
    "\n",
    "    arrow_element_departure = wait_for_element(By.ID, \"ctl05_rcbAirportFrom_Arrow\")\n",
    "    arrow_element_departure.click()\n",
    "\n",
    "    actions = ActionChains(driver)\n",
    "    calculate_button = wait_for_element(By.ID, \"ctl05_btnAddFlight\")\n",
    "    actions.move_to_element(calculate_button).click().perform()\n",
    "\n",
    "    try:\n",
    "        WebDriverWait(driver, 10).until(\n",
    "            EC.visibility_of_element_located((By.CSS_SELECTOR, \"table.footprints\"))\n",
    "        )\n",
    "        carbon_footprint_element = driver.find_element(By.CSS_SELECTOR, \"table.footprints td:first-child\")\n",
    "        carbon_footprint_text = carbon_footprint_element.text\n",
    "        match = re.search(r\"([\\d.]+)\\s*metric tons\", carbon_footprint_text)\n",
    "        carbon_footprint = match.group(1) if match else \"Non trouvé\"\n",
    "    except Exception as e:\n",
    "        print(\"Une erreur est survenue :\", e)\n",
    "\n",
    "    print(\"L'empreinte carbone est :\", carbon_footprint, \"tonnes métriques de CO2e\")\n",
    "\n",
    "    #driver.quit()\n",
    "else:\n",
    "    print(\"Les codes AITA pour les villes fournies n'ont pas été trouvés.\")\n"
   ]
  }
 ],
 "metadata": {
  "kernelspec": {
   "display_name": "Python 3",
   "language": "python",
   "name": "python3"
  },
  "language_info": {
   "codemirror_mode": {
    "name": "ipython",
    "version": 3
   },
   "file_extension": ".py",
   "mimetype": "text/x-python",
   "name": "python",
   "nbconvert_exporter": "python",
   "pygments_lexer": "ipython3",
   "version": "3.8.8"
  }
 },
 "nbformat": 4,
 "nbformat_minor": 5
}
